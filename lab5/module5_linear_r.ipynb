{
  "nbformat": 4,
  "nbformat_minor": 0,
  "metadata": {
    "colab": {
      "provenance": []
    },
    "kernelspec": {
      "name": "python3",
      "display_name": "Python 3"
    },
    "language_info": {
      "name": "python"
    }
  },
  "cells": [
    {
      "cell_type": "code",
      "source": [
        "!rm -rf ./*"
      ],
      "metadata": {
        "id": "I0NPQmE_KgOG"
      },
      "execution_count": 1,
      "outputs": []
    },
    {
      "cell_type": "code",
      "execution_count": 2,
      "metadata": {
        "id": "q4KJ_oVTpGKu"
      },
      "outputs": [],
      "source": [
        "import numpy as np\n",
        "import pandas as pd\n",
        "from sklearn.linear_model import LinearRegression\n",
        "from sklearn.model_selection import train_test_split\n",
        "from sklearn.metrics import mean_absolute_error, r2_score\n",
        "from sklearn.preprocessing import StandardScaler, OneHotEncoder\n",
        "from sklearn.pipeline import make_pipeline\n",
        "from sklearn.compose import ColumnTransformer\n",
        "import matplotlib.pyplot as plt\n",
        "import seaborn as sns\n",
        "from joblib import dump, load"
      ]
    },
    {
      "cell_type": "markdown",
      "source": [
        "# Создание датасетов"
      ],
      "metadata": {
        "id": "ccrvJNPPy8KW"
      }
    },
    {
      "cell_type": "code",
      "source": [
        "!mkdir df_1 df_2 df_3 df_4"
      ],
      "metadata": {
        "id": "tnO9nNZZCqr3"
      },
      "execution_count": 3,
      "outputs": []
    },
    {
      "cell_type": "code",
      "source": [
        "def data_create(noise=False):\n",
        "\n",
        "    # Генерация данных\n",
        "    n_obs = 800\n",
        "    gender = pd.Categorical(np.random.randint(0, 2, size=n_obs))\n",
        "    age = np.random.randint(18, 41, size=n_obs)\n",
        "    medal = np.random.randint(0, 14, size=n_obs)\n",
        "    salary = np.round(2 * age + 8 * medal + 10 * np.random.randn(n_obs) + 30)\n",
        "\n",
        "    # Создание датафреймов\n",
        "    data = pd.DataFrame(\n",
        "        {\"пол\": gender, \"возраст\": age, \"наличие_медали\": medal, \"зарплата_тыс\": salary}\n",
        "    )\n",
        "    # Создание датафрейма с шумом\n",
        "    if noise:\n",
        "        data[\"зарплата_тыс\"] = data[\"зарплата_тыс\"] + 20 * np.random.randn(n_obs)\n",
        "\n",
        "    return data"
      ],
      "metadata": {
        "id": "tz0pCNDOpjsN"
      },
      "execution_count": 4,
      "outputs": []
    },
    {
      "cell_type": "code",
      "source": [
        "df_1 = data_create()\n",
        "df_2 = data_create()\n",
        "df_3 = data_create()\n",
        "df_4 = data_create(noise=True)\n",
        "\n",
        "df_1.to_csv(\"df_1/df.сsv\", index=False)\n",
        "df_2.to_csv(\"df_2/df.сsv\", index=False)\n",
        "df_3.to_csv(\"df_3/df.сsv\", index=False)\n",
        "df_4.to_csv(\"df_4/df.сsv\", index=False)"
      ],
      "metadata": {
        "id": "z4_ZJGJp1IoY"
      },
      "execution_count": 5,
      "outputs": []
    },
    {
      "cell_type": "markdown",
      "source": [
        "# Препроцессинг данных и обучение модели\n",
        "\n"
      ],
      "metadata": {
        "id": "4Tgr7p0TO5gv"
      }
    },
    {
      "cell_type": "code",
      "source": [
        "def select_cat_features(data):\n",
        "    return (\n",
        "        data.drop(columns=\"зарплата_тыс\")\n",
        "        .select_dtypes(include=object)\n",
        "        .columns.to_list()\n",
        "    )\n",
        "\n",
        "\n",
        "def select_num_features(data):\n",
        "    return (\n",
        "        data.drop(columns=\"зарплата_тыс\")\n",
        "        .select_dtypes(exclude=object)\n",
        "        .columns.to_list()\n",
        "    )"
      ],
      "metadata": {
        "id": "IQN-5CXGoutT"
      },
      "execution_count": 6,
      "outputs": []
    },
    {
      "cell_type": "code",
      "source": [
        "cat_features = select_cat_features(df_1)\n",
        "num_features = select_num_features(df_1)"
      ],
      "metadata": {
        "id": "DgD79MyXngny"
      },
      "execution_count": 7,
      "outputs": []
    },
    {
      "cell_type": "code",
      "source": [
        "# Создание пайплайна для препроцессинга данных и выполнения прогноза\n",
        "pipeline = make_pipeline(\n",
        "    ColumnTransformer(\n",
        "        transformers=[\n",
        "            (\n",
        "                \"encoder\",\n",
        "                OneHotEncoder(drop=\"if_binary\", handle_unknown=\"ignore\", sparse=False),\n",
        "                cat_features,\n",
        "            ),\n",
        "            (\"scaler\", StandardScaler(), num_features),\n",
        "        ]\n",
        "    ),\n",
        "    LinearRegression(),\n",
        ")"
      ],
      "metadata": {
        "id": "E2PXkuGfkWeq"
      },
      "execution_count": 8,
      "outputs": []
    },
    {
      "cell_type": "code",
      "source": [
        "X = df_1.drop(columns=[\"зарплата_тыс\"])\n",
        "y = df_1[\"зарплата_тыс\"]\n",
        "\n",
        "# Разделение на обучающий и тестовый наборы данных\n",
        "X_train, X_test, y_train, y_test = train_test_split(\n",
        "    X, y, test_size=0.2, random_state=42\n",
        ")\n",
        "\n",
        "print(\"Размер тренировочного набора данных (X_train):\", X_train.shape)\n",
        "print(\"Размер тестового набора данных (X_test):\", X_test.shape)\n",
        "print(\"Размер тренировочного набора данных (y_train):\", y_train.shape)\n",
        "print(\"Размер тестового набора данных (y_test):\", y_test.shape)"
      ],
      "metadata": {
        "colab": {
          "base_uri": "https://localhost:8080/"
        },
        "id": "shr_dVLNp5me",
        "outputId": "e5c578fd-ba54-4899-ff4f-feb25c5c41fb"
      },
      "execution_count": 9,
      "outputs": [
        {
          "output_type": "stream",
          "name": "stdout",
          "text": [
            "Размер тренировочного набора данных (X_train): (640, 3)\n",
            "Размер тестового набора данных (X_test): (160, 3)\n",
            "Размер тренировочного набора данных (y_train): (640,)\n",
            "Размер тестового набора данных (y_test): (160,)\n"
          ]
        }
      ]
    },
    {
      "cell_type": "code",
      "source": [
        "# Инициализация и обучение модели\n",
        "pipeline.fit(X_train, y_train)\n",
        "\n",
        "# Сохранение обученной модели\n",
        "dump(pipeline, \"pipeline.joblib\")"
      ],
      "metadata": {
        "colab": {
          "base_uri": "https://localhost:8080/"
        },
        "id": "9XD9V9vwqq0G",
        "outputId": "30a02908-c70f-4f2b-b88f-46d9c92f45a0"
      },
      "execution_count": 10,
      "outputs": [
        {
          "output_type": "execute_result",
          "data": {
            "text/plain": [
              "['pipeline.joblib']"
            ]
          },
          "metadata": {},
          "execution_count": 10
        }
      ]
    },
    {
      "cell_type": "code",
      "source": [
        "# Прогнозирование на тестовом наборе данных\n",
        "y_pred_df1 = pipeline.predict(X_test)\n",
        "\n",
        "# Вычисление средней абсолютной ошибки (MAE) и коэффициента детерминации(R^2)\n",
        "MAE = mean_absolute_error(y_test, y_pred_df1)\n",
        "r2 = r2_score(y_test, y_pred_df1)\n",
        "print(\"Средняя абсолютная ошибка (MAE):\", MAE)\n",
        "print(\"Коэффициент детерминации (R^2):\", r2)"
      ],
      "metadata": {
        "colab": {
          "base_uri": "https://localhost:8080/"
        },
        "id": "Vk71wVNYqyEn",
        "outputId": "1673d696-21b8-4056-96eb-0f5826281813"
      },
      "execution_count": 11,
      "outputs": [
        {
          "output_type": "stream",
          "name": "stdout",
          "text": [
            "Средняя абсолютная ошибка (MAE): 7.804905994946589\n",
            "Коэффициент детерминации (R^2): 0.9186480356297752\n"
          ]
        }
      ]
    },
    {
      "cell_type": "markdown",
      "source": [
        "# Создание файла для тестирования"
      ],
      "metadata": {
        "id": "MZVtX62GOz5c"
      }
    },
    {
      "cell_type": "code",
      "source": [
        "%%writefile test.py\n",
        "import numpy as np\n",
        "import pandas as pd\n",
        "import pytest\n",
        "from joblib import load\n",
        "from sklearn.metrics import mean_absolute_error, r2_score\n",
        "\n",
        "\n",
        "@pytest.fixture()\n",
        "def load_pipeline():\n",
        "    pipeline = load(\"/content/pipeline.joblib\")\n",
        "    return pipeline\n",
        "\n",
        "\n",
        "@pytest.fixture()\n",
        "def load_data_and_get_pred(load_pipeline):\n",
        "    data = pd.read_csv(\"df.сsv\")\n",
        "    X = data.drop(columns=\"зарплата_тыс\")\n",
        "    y = data[\"зарплата_тыс\"]\n",
        "    cat_features = X.select_dtypes(include=\"category\").columns.to_list()\n",
        "    num_features = X.select_dtypes(exclude=object).columns.to_list()\n",
        "    y_pred = load_pipeline.predict(X)\n",
        "    return y, y_pred\n",
        "\n",
        "\n",
        "def test_mse(load_data_and_get_pred):\n",
        "    y, y_pred = load_data_and_get_pred\n",
        "    assert mean_absolute_error(y, y_pred) < 10\n",
        "\n",
        "\n",
        "def test_r2(load_data_and_get_pred):\n",
        "    y, y_pred = load_data_and_get_pred\n",
        "    assert r2_score(y, y_pred) > 0.9\n"
      ],
      "metadata": {
        "colab": {
          "base_uri": "https://localhost:8080/"
        },
        "id": "mvhFyL_I9KcH",
        "outputId": "13415704-0088-4a59-884e-4f64df6168ea"
      },
      "execution_count": 12,
      "outputs": [
        {
          "output_type": "stream",
          "name": "stdout",
          "text": [
            "Writing test.py\n"
          ]
        }
      ]
    },
    {
      "cell_type": "markdown",
      "source": [
        "# Тестирование данных в различных датафреймах"
      ],
      "metadata": {
        "id": "nwwT2oNGPfrk"
      }
    },
    {
      "cell_type": "code",
      "source": [
        "%cd df_1\n",
        "!pytest -v /content/test.py\n",
        "%cd /content"
      ],
      "metadata": {
        "colab": {
          "base_uri": "https://localhost:8080/"
        },
        "id": "Rmjx39EBDSiE",
        "outputId": "f9383058-8f20-4e58-b156-33eb1a8b59a1"
      },
      "execution_count": 13,
      "outputs": [
        {
          "output_type": "stream",
          "name": "stdout",
          "text": [
            "/content/df_1\n",
            "\u001b[1m======================================= test session starts ========================================\u001b[0m\n",
            "platform linux -- Python 3.10.12, pytest-7.4.4, pluggy-1.5.0 -- /usr/bin/python3\n",
            "cachedir: .pytest_cache\n",
            "rootdir: /content\n",
            "plugins: anyio-3.7.1\n",
            "collected 2 items                                                                                  \u001b[0m\n",
            "\n",
            "../test.py::test_mse \u001b[32mPASSED\u001b[0m\u001b[32m                                                                  [ 50%]\u001b[0m\n",
            "../test.py::test_r2 \u001b[32mPASSED\u001b[0m\u001b[32m                                                                   [100%]\u001b[0m\n",
            "\n",
            "\u001b[32m======================================== \u001b[32m\u001b[1m2 passed\u001b[0m\u001b[32m in 2.07s\u001b[0m\u001b[32m =========================================\u001b[0m\n",
            "/content\n"
          ]
        }
      ]
    },
    {
      "cell_type": "code",
      "source": [
        "%cd df_2\n",
        "!pytest -v /content/test.py\n",
        "%cd /content"
      ],
      "metadata": {
        "colab": {
          "base_uri": "https://localhost:8080/"
        },
        "id": "GvRfqOwuDSKg",
        "outputId": "0b32ff28-5eb5-4b4f-a4d3-57d16a19aac9"
      },
      "execution_count": 14,
      "outputs": [
        {
          "output_type": "stream",
          "name": "stdout",
          "text": [
            "/content/df_2\n",
            "\u001b[1m======================================= test session starts ========================================\u001b[0m\n",
            "platform linux -- Python 3.10.12, pytest-7.4.4, pluggy-1.5.0 -- /usr/bin/python3\n",
            "cachedir: .pytest_cache\n",
            "rootdir: /content\n",
            "plugins: anyio-3.7.1\n",
            "collected 2 items                                                                                  \u001b[0m\n",
            "\n",
            "../test.py::test_mse \u001b[32mPASSED\u001b[0m\u001b[32m                                                                  [ 50%]\u001b[0m\n",
            "../test.py::test_r2 \u001b[32mPASSED\u001b[0m\u001b[32m                                                                   [100%]\u001b[0m\n",
            "\n",
            "\u001b[32m======================================== \u001b[32m\u001b[1m2 passed\u001b[0m\u001b[32m in 4.31s\u001b[0m\u001b[32m =========================================\u001b[0m\n",
            "/content\n"
          ]
        }
      ]
    },
    {
      "cell_type": "code",
      "source": [
        "%cd df_3\n",
        "!pytest -v /content/test.py\n",
        "%cd /content"
      ],
      "metadata": {
        "colab": {
          "base_uri": "https://localhost:8080/"
        },
        "id": "WoBWA-VtDSIQ",
        "outputId": "bb460965-9b78-4f1b-f886-e9219be43a92"
      },
      "execution_count": 15,
      "outputs": [
        {
          "output_type": "stream",
          "name": "stdout",
          "text": [
            "/content/df_3\n",
            "\u001b[1m======================================= test session starts ========================================\u001b[0m\n",
            "platform linux -- Python 3.10.12, pytest-7.4.4, pluggy-1.5.0 -- /usr/bin/python3\n",
            "cachedir: .pytest_cache\n",
            "rootdir: /content\n",
            "plugins: anyio-3.7.1\n",
            "collected 2 items                                                                                  \u001b[0m\n",
            "\n",
            "../test.py::test_mse \u001b[32mPASSED\u001b[0m\u001b[32m                                                                  [ 50%]\u001b[0m\n",
            "../test.py::test_r2 \u001b[32mPASSED\u001b[0m\u001b[32m                                                                   [100%]\u001b[0m\n",
            "\n",
            "\u001b[32m======================================== \u001b[32m\u001b[1m2 passed\u001b[0m\u001b[32m in 3.50s\u001b[0m\u001b[32m =========================================\u001b[0m\n",
            "/content\n"
          ]
        }
      ]
    },
    {
      "cell_type": "code",
      "source": [
        "%cd df_4\n",
        "!pytest -v /content/test.py\n",
        "%cd /content"
      ],
      "metadata": {
        "colab": {
          "base_uri": "https://localhost:8080/"
        },
        "id": "Tn7CP5OCDSDX",
        "outputId": "1e6e3f3d-76fa-42d6-b998-8ec5511548a4"
      },
      "execution_count": 16,
      "outputs": [
        {
          "output_type": "stream",
          "name": "stdout",
          "text": [
            "/content/df_4\n",
            "\u001b[1m======================================= test session starts ========================================\u001b[0m\n",
            "platform linux -- Python 3.10.12, pytest-7.4.4, pluggy-1.5.0 -- /usr/bin/python3\n",
            "cachedir: .pytest_cache\n",
            "rootdir: /content\n",
            "plugins: anyio-3.7.1\n",
            "collected 2 items                                                                                  \u001b[0m\n",
            "\n",
            "../test.py::test_mse \u001b[31mFAILED\u001b[0m\u001b[31m                                                                  [ 50%]\u001b[0m\n",
            "../test.py::test_r2 \u001b[31mFAILED\u001b[0m\u001b[31m                                                                   [100%]\u001b[0m\n",
            "\n",
            "============================================= FAILURES =============================================\n",
            "\u001b[31m\u001b[1m_____________________________________________ test_mse _____________________________________________\u001b[0m\n",
            "\n",
            "load_data_and_get_pred = (0       87.944357\n",
            "1      113.086686\n",
            "2      147.116170\n",
            "3      109.749447\n",
            "4      121.726113\n",
            "          ...    \n",
            "795     7...43.61274373, 120.19277817, 119.54704272, 101.78508471,\n",
            "       171.11475942, 162.02043719, 149.68663253, 147.27891261]))\n",
            "\n",
            "    \u001b[94mdef\u001b[39;49;00m \u001b[92mtest_mse\u001b[39;49;00m(load_data_and_get_pred):\u001b[90m\u001b[39;49;00m\n",
            "        y, y_pred = load_data_and_get_pred\u001b[90m\u001b[39;49;00m\n",
            ">       \u001b[94massert\u001b[39;49;00m mean_absolute_error(y, y_pred) < \u001b[94m10\u001b[39;49;00m\u001b[90m\u001b[39;49;00m\n",
            "\u001b[1m\u001b[31mE       assert 17.576049764197084 < 10\u001b[0m\n",
            "\u001b[1m\u001b[31mE        +  where 17.576049764197084 = mean_absolute_error(0       87.944357\\n1      113.086686\\n2      147.116170\\n3      109.749447\\n4      121.726113\\n          ...    \\n795     72.524834\\n796    132.578095\\n797    139.053160\\n798    173.772908\\n799    139.135347\\nName: зарплата_тыс, Length: 800, dtype: float64, array([ 92.46090829, 155.07095875, 144.48833337, 124.54850963,\\n       126.72637536, 154.68809944, 165.04087062, 102.01493891,\\n       146.8960533 , 154.04236399, 207.32823803,  67.97932603,\\n       172.45005745, 123.67291999, 137.30900074, 149.6428054 ,\\n       141.85075926,  82.26114222, 158.35426832,  98.53479709,\\n       213.81800809, 183.72224541, 139.90274772, 130.85225263,\\n       137.99856332, 115.65101965, 176.11622633, 163.96844873,\\n       139.94657486, 139.25701227, 148.15450225, 211.2242611 ,\\n       170.27219172, 101.74125757, 187.61826848, 134.05871311,\\n       129.2871004 , 180.70181198, 123.4430658 , 158.16824126,\\n       110.03683924, 151.86449826, 101.78508471, 161.83441014,\\n       179.82622234, 111.94102364,  78.36511915, 163.78242167,\\n       164.19830292, 194.10803854, 147.04905841, 169.16674789,\\n        85.51142984, 103.9191233 , 170.27219172, 130.16269004,\\n       157.24882448, 156.86596517, 149.91648673, 189.98216127,\\n       173.9383606 ,  74.05321483, 168.55403438, 174.21204193,\\n       164.65801131, 101.32537632, 182.00408807, 101.09552213,\\n        99.79324604, 155.94654839, 169.81248333, 129.93283585,\\n       193.2324489 , 122.6004981 , 177.87821081,  93.99303857,\\n ...,\\n       120.42263237, 104.1489775 ,  77.9492379 , 141.62090506,\\n       158.81397671, 129.70298165, 165.73043321,  74.05321483,\\n       148.19832939, 176.34608052, 142.77017603, 131.46496613,\\n       117.82888538,  93.99303857, 161.83441014, 156.22022972,\\n       158.16824126, 138.22841752, 148.15450225, 170.04233753,\\n        77.9492379 , 170.27219172, 209.27624957, 106.78655162,\\n       163.96844873,  89.63730711, 193.46230309, 115.60719252,\\n       137.07914654, 163.73859453, 201.25434923,  97.19949906,\\n        80.54298488,  99.83707318, 207.32823803,  76.41710761,\\n       110.2228663 ,  96.58678555, 113.65918098,  99.37736479,\\n       141.89458639, 147.92464806, 166.1901416 , 108.08882771,\\n       160.30227985, 173.98218774, 127.10923467, 130.85225263,\\n       177.87821081, 131.88084738, 175.47049088, 125.80695858,\\n       167.21873635, 181.54437968, 154.91795364, 147.69479386,\\n       134.10254025, 152.09435246, 166.83587704, 134.28856731,\\n        81.61540677, 201.90008468, 170.50204592, 123.90277418,\\n       108.73456315, 131.88084738, 131.23511194, 165.27072482,\\n       143.61274373, 120.19277817, 119.54704272, 101.78508471,\\n       171.11475942, 162.02043719, 149.68663253, 147.27891261]))\u001b[0m\n",
            "\n",
            "\u001b[1m\u001b[31m../test.py\u001b[0m:27: AssertionError\n",
            "\u001b[31m\u001b[1m_____________________________________________ test_r2 ______________________________________________\u001b[0m\n",
            "\n",
            "load_data_and_get_pred = (0       87.944357\n",
            "1      113.086686\n",
            "2      147.116170\n",
            "3      109.749447\n",
            "4      121.726113\n",
            "          ...    \n",
            "795     7...43.61274373, 120.19277817, 119.54704272, 101.78508471,\n",
            "       171.11475942, 162.02043719, 149.68663253, 147.27891261]))\n",
            "\n",
            "    \u001b[94mdef\u001b[39;49;00m \u001b[92mtest_r2\u001b[39;49;00m(load_data_and_get_pred):\u001b[90m\u001b[39;49;00m\n",
            "        y, y_pred = load_data_and_get_pred\u001b[90m\u001b[39;49;00m\n",
            ">       \u001b[94massert\u001b[39;49;00m r2_score(y, y_pred) > \u001b[94m0.9\u001b[39;49;00m\u001b[90m\u001b[39;49;00m\n",
            "\u001b[1m\u001b[31mE       assert 0.6985150051194072 > 0.9\u001b[0m\n",
            "\u001b[1m\u001b[31mE        +  where 0.6985150051194072 = r2_score(0       87.944357\\n1      113.086686\\n2      147.116170\\n3      109.749447\\n4      121.726113\\n          ...    \\n795     72.524834\\n796    132.578095\\n797    139.053160\\n798    173.772908\\n799    139.135347\\nName: зарплата_тыс, Length: 800, dtype: float64, array([ 92.46090829, 155.07095875, 144.48833337, 124.54850963,\\n       126.72637536, 154.68809944, 165.04087062, 102.01493891,\\n       146.8960533 , 154.04236399, 207.32823803,  67.97932603,\\n       172.45005745, 123.67291999, 137.30900074, 149.6428054 ,\\n       141.85075926,  82.26114222, 158.35426832,  98.53479709,\\n       213.81800809, 183.72224541, 139.90274772, 130.85225263,\\n       137.99856332, 115.65101965, 176.11622633, 163.96844873,\\n       139.94657486, 139.25701227, 148.15450225, 211.2242611 ,\\n       170.27219172, 101.74125757, 187.61826848, 134.05871311,\\n       129.2871004 , 180.70181198, 123.4430658 , 158.16824126,\\n       110.03683924, 151.86449826, 101.78508471, 161.83441014,\\n       179.82622234, 111.94102364,  78.36511915, 163.78242167,\\n       164.19830292, 194.10803854, 147.04905841, 169.16674789,\\n        85.51142984, 103.9191233 , 170.27219172, 130.16269004,\\n       157.24882448, 156.86596517, 149.91648673, 189.98216127,\\n       173.9383606 ,  74.05321483, 168.55403438, 174.21204193,\\n       164.65801131, 101.32537632, 182.00408807, 101.09552213,\\n        99.79324604, 155.94654839, 169.81248333, 129.93283585,\\n       193.2324489 , 122.6004981 , 177.87821081,  93.99303857,\\n ...,\\n       120.42263237, 104.1489775 ,  77.9492379 , 141.62090506,\\n       158.81397671, 129.70298165, 165.73043321,  74.05321483,\\n       148.19832939, 176.34608052, 142.77017603, 131.46496613,\\n       117.82888538,  93.99303857, 161.83441014, 156.22022972,\\n       158.16824126, 138.22841752, 148.15450225, 170.04233753,\\n        77.9492379 , 170.27219172, 209.27624957, 106.78655162,\\n       163.96844873,  89.63730711, 193.46230309, 115.60719252,\\n       137.07914654, 163.73859453, 201.25434923,  97.19949906,\\n        80.54298488,  99.83707318, 207.32823803,  76.41710761,\\n       110.2228663 ,  96.58678555, 113.65918098,  99.37736479,\\n       141.89458639, 147.92464806, 166.1901416 , 108.08882771,\\n       160.30227985, 173.98218774, 127.10923467, 130.85225263,\\n       177.87821081, 131.88084738, 175.47049088, 125.80695858,\\n       167.21873635, 181.54437968, 154.91795364, 147.69479386,\\n       134.10254025, 152.09435246, 166.83587704, 134.28856731,\\n        81.61540677, 201.90008468, 170.50204592, 123.90277418,\\n       108.73456315, 131.88084738, 131.23511194, 165.27072482,\\n       143.61274373, 120.19277817, 119.54704272, 101.78508471,\\n       171.11475942, 162.02043719, 149.68663253, 147.27891261]))\u001b[0m\n",
            "\n",
            "\u001b[1m\u001b[31m../test.py\u001b[0m:32: AssertionError\n",
            "\u001b[36m\u001b[1m===================================== short test summary info ======================================\u001b[0m\n",
            "\u001b[31mFAILED\u001b[0m ../test.py::\u001b[1mtest_mse\u001b[0m - assert 17.576049764197084 < 10\n",
            "\u001b[31mFAILED\u001b[0m ../test.py::\u001b[1mtest_r2\u001b[0m - assert 0.6985150051194072 > 0.9\n",
            "\u001b[31m======================================== \u001b[31m\u001b[1m2 failed\u001b[0m\u001b[31m in 4.25s\u001b[0m\u001b[31m =========================================\u001b[0m\n",
            "/content\n"
          ]
        }
      ]
    },
    {
      "cell_type": "markdown",
      "source": [
        "Как можем заметить, датасеты 1-3 с \"качественными\" данными успешно прошли тестирование, датасет 4, содержащий шум, не прошел тестирование."
      ],
      "metadata": {
        "id": "2tIdNIDjP9MS"
      }
    }
  ]
}